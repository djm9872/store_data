{
 "cells": [
  {
   "cell_type": "code",
   "execution_count": 1,
   "metadata": {},
   "outputs": [],
   "source": [
    "import pandas as pd\n",
    "import numpy as np\n",
    "import requests\n",
    "import json"
   ]
  },
  {
   "cell_type": "code",
   "execution_count": 2,
   "metadata": {},
   "outputs": [],
   "source": [
    "states = ['US-AL','US-AK','US-AZ','US-AR','US-CA','US-CO','US-CT', 'US-DE', 'US-FL', 'US-GA', 'US-HI',\n",
    "          'US-ID', 'US-IL','US-IN','US-IA','US-KS','US-KY','US-LA','US-ME','US-MD','US-MA', 'US-MI','US-MN',\n",
    "          'US-MS','US-MO','US-MT','US-NE','US-NV','US-NH','US-NJ','US-NM','US-NY','US-NC','US-ND','US-OH',\n",
    "          'US-OK','US-OR','US-PA','US-RI','US-SC','US-SD','US-TN','US-TX','US-UT','US-VT','US-VA','US-WA',\n",
    "          'US-WV','US-WI','US-WY','US-DC']\n",
    "\n",
    "# for state in states:\n",
    "#     print(f'{state} is my home')"
   ]
  },
  {
   "cell_type": "code",
   "execution_count": 3,
   "metadata": {},
   "outputs": [
    {
     "name": "stdout",
     "output_type": "stream",
     "text": [
      "13351\n"
     ]
    }
   ],
   "source": [
    "store_data = []\n",
    "\n",
    "overpass_url = \"http://overpass-api.de/api/interpreter\"\n",
    "\n",
    "skips_by_state = {}\n",
    "\n",
    "def increment_skip(state, skips_by_state):\n",
    "    if state in skips_by_state:\n",
    "        skips_by_state[state] += 1\n",
    "    else:\n",
    "        skips_by_state[state] = 1\n",
    "    return skips_by_state\n",
    "\n",
    "for state in states:\n",
    "    overpass_query = f\"[out:json][timeout:120];\"\\\n",
    "                     f\"area['ISO3166-2'='{state}'][admin_level=4];\"\\\n",
    "                     f\"(node['shop'='supermarket'](area);\"\\\n",
    "                     f\" way['shop'='supermarket'](area);\"\\\n",
    "                     f\" rel['shop'='supermarket'](area);\"\\\n",
    "                     f\");\"\\\n",
    "                     f\"out center;\"\n",
    "\n",
    "    response = requests.get(overpass_url, \n",
    "                        params={'data': overpass_query})\n",
    "    \n",
    "    data = response.json()\n",
    "    \n",
    "    stores = data['elements']\n",
    "\n",
    "    for store in stores:\n",
    "        loop_list = {}  \n",
    "        if store['type'] == 'node':\n",
    "            if store['lat'] and store['lon'] not in loop_list:\n",
    "                try:\n",
    "                    loop_list['name'] = store['tags']['name']  \n",
    "                    loop_list['lat'] = store['lat']\n",
    "                    loop_list['lon'] = store['lon']\n",
    "                    store_data.append(loop_list)\n",
    "                except KeyError:\n",
    "                    skips_by_state = increment_skip(state, skips_by_state)\n",
    "                    # print('Missing Field')\n",
    "        elif 'center' in store:\n",
    "            if store[\"lat\"] and store[\"lon\"] not in loop_list:\n",
    "                try:\n",
    "                    loop_list['name'] = store['tags']['name']  \n",
    "                    loop_list['lat'] = store['lat']\n",
    "                    loop_list['lon'] = store['lon']\n",
    "                    store_data.append(loop_list)\n",
    "                except KeyError:\n",
    "                    skips_by_state = increment_skip(state, skips_by_state)\n",
    "\n",
    "print(len(store_data))\n",
    "# store_data"
   ]
  },
  {
   "cell_type": "code",
   "execution_count": 12,
   "metadata": {},
   "outputs": [
    {
     "data": {
      "text/plain": [
       "{'US-AL': 4,\n",
       " 'US-AK': 3,\n",
       " 'US-AZ': 13,\n",
       " 'US-AR': 3,\n",
       " 'US-CA': 47,\n",
       " 'US-CO': 5,\n",
       " 'US-CT': 4,\n",
       " 'US-FL': 24,\n",
       " 'US-GA': 10,\n",
       " 'US-ID': 7,\n",
       " 'US-IL': 11,\n",
       " 'US-IN': 13,\n",
       " 'US-IA': 6,\n",
       " 'US-KS': 14,\n",
       " 'US-KY': 4,\n",
       " 'US-LA': 8,\n",
       " 'US-ME': 6,\n",
       " 'US-MD': 8,\n",
       " 'US-MA': 6,\n",
       " 'US-MI': 15,\n",
       " 'US-MN': 8,\n",
       " 'US-MS': 3,\n",
       " 'US-MO': 7,\n",
       " 'US-MT': 4,\n",
       " 'US-NE': 12,\n",
       " 'US-NV': 3,\n",
       " 'US-NH': 2,\n",
       " 'US-NJ': 15,\n",
       " 'US-NM': 5,\n",
       " 'US-NY': 40,\n",
       " 'US-NC': 15,\n",
       " 'US-OH': 12,\n",
       " 'US-OK': 4,\n",
       " 'US-OR': 2,\n",
       " 'US-PA': 20,\n",
       " 'US-SC': 6,\n",
       " 'US-SD': 3,\n",
       " 'US-TN': 4,\n",
       " 'US-TX': 28,\n",
       " 'US-UT': 2,\n",
       " 'US-VT': 2,\n",
       " 'US-VA': 17,\n",
       " 'US-WA': 10,\n",
       " 'US-WV': 3,\n",
       " 'US-WI': 10,\n",
       " 'US-DC': 1}"
      ]
     },
     "execution_count": 12,
     "metadata": {},
     "output_type": "execute_result"
    }
   ],
   "source": [
    "skips_by_state\n",
    "# skips = list(skips_by_state)\n",
    "# skip_df = pd.DataFrame(skips)\n",
    "# skip_df"
   ]
  },
  {
   "cell_type": "code",
   "execution_count": 20,
   "metadata": {},
   "outputs": [
    {
     "data": {
      "text/plain": [
       "lat    84\n",
       "lon    84\n",
       "Name: Target, dtype: int64"
      ]
     },
     "execution_count": 20,
     "metadata": {},
     "output_type": "execute_result"
    }
   ],
   "source": [
    "us_stores_df = pd.DataFrame(store_data)\n",
    "us_stores_df = us_stores_df[['name', 'lat', 'lon']]\n",
    "# us_stores_df\n",
    "grouped_by_name_df = us_stores_df.groupby(['name']).count().\n"
   ]
  },
  {
   "cell_type": "code",
   "execution_count": 22,
   "metadata": {},
   "outputs": [],
   "source": [
    "us_stores_df.to_csv('us_supermarkets.csv')"
   ]
  },
  {
   "cell_type": "code",
   "execution_count": null,
   "metadata": {},
   "outputs": [],
   "source": []
  }
 ],
 "metadata": {
  "kernelspec": {
   "display_name": "tuesday_pandas",
   "language": "python",
   "name": "tuesday_pandas"
  },
  "language_info": {
   "codemirror_mode": {
    "name": "ipython",
    "version": 3
   },
   "file_extension": ".py",
   "mimetype": "text/x-python",
   "name": "python",
   "nbconvert_exporter": "python",
   "pygments_lexer": "ipython3",
   "version": "3.6.7"
  }
 },
 "nbformat": 4,
 "nbformat_minor": 2
}
