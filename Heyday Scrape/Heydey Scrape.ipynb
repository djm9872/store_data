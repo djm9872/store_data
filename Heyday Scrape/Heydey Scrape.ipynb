{
 "cells": [
  {
   "cell_type": "code",
   "execution_count": 1,
   "metadata": {},
   "outputs": [],
   "source": [
    "from splinter import Browser\n",
    "from bs4 import BeautifulSoup as bs\n",
    "import requests\n",
    "import pymongo\n",
    "import pandas as pd\n",
    "from pprint import pprint\n",
    "import time\n",
    "import re"
   ]
  },
  {
   "cell_type": "code",
   "execution_count": 2,
   "metadata": {},
   "outputs": [
    {
     "name": "stdout",
     "output_type": "stream",
     "text": [
      "/usr/local/bin/chromedriver\r\n"
     ]
    }
   ],
   "source": [
    "!which chromedriver"
   ]
  },
  {
   "cell_type": "code",
   "execution_count": 3,
   "metadata": {},
   "outputs": [],
   "source": [
    "executable_path = {'executable_path': '/usr/local/bin/chromedriver'}\n",
    "browser = Browser('chrome', **executable_path, headless=False)"
   ]
  },
  {
   "cell_type": "markdown",
   "metadata": {},
   "source": [
    "### Create lists to store data"
   ]
  },
  {
   "cell_type": "code",
   "execution_count": 4,
   "metadata": {},
   "outputs": [],
   "source": [
    "store_name_list = []\n",
    "streets = []\n",
    "cities = []"
   ]
  },
  {
   "cell_type": "markdown",
   "metadata": {},
   "source": [
    "### Navigate to page with splinter, deal with pop-up, execute entries"
   ]
  },
  {
   "cell_type": "code",
   "execution_count": 5,
   "metadata": {},
   "outputs": [],
   "source": [
    "# URL of page to be scraped\n",
    "url = 'http://drinkheyday.com/find-us/'\n",
    "browser.visit(url)\n",
    "browser.cookies.delete()\n",
    "time.sleep(5)\n",
    "\n",
    "browser.find_by_id('close-wisepop-125801').first.click()\n",
    "\n",
    "time.sleep(1)\n",
    "\n",
    "browser.find_by_id('wpsl-search-input').fill('Austin, TX, USA\\n')\n",
    "\n",
    "time.sleep(1)\n",
    "\n",
    "radius = browser.find_by_css('.wpsl-dropdown').first.click()\n",
    "\n",
    "# browser.is_element_present_by_css('.wpsl-active')\n",
    "\n",
    "time.sleep(1)\n",
    "\n",
    "radius100 = '//*[@id=\"wpsl-radius\"]/div/div/ul/li[4]' #100mi\n",
    "radius_select = browser.find_by_xpath(radius100)[0].click()\n",
    "\n",
    "time.sleep(1)\n",
    "\n",
    "results = browser.find_by_css('.wpsl-dropdown').last.click()\n",
    "\n",
    "time.sleep(1)\n",
    "\n",
    "results100 = '//*[@id=\"wpsl-results\"]/div/div/ul/li[4]' #100mi\n",
    "results_select = browser.find_by_xpath(results100)[0].click()\n",
    "\n",
    "\n",
    "browser.find_by_id('wpsl-search-btn').click()\n",
    "\n",
    "time.sleep(3)\n",
    "\n",
    "html = browser.html\n",
    "\n",
    "# Create BeautifulSoup object; parse with 'html.parser'\n",
    "soup = bs(html, 'html.parser')\n"
   ]
  },
  {
   "cell_type": "markdown",
   "metadata": {},
   "source": [
    "### Parse html to extract data"
   ]
  },
  {
   "cell_type": "code",
   "execution_count": 6,
   "metadata": {},
   "outputs": [],
   "source": [
    "store_locations = soup.find('div', {'id':'wpsl-result-list'})\n",
    "store_name = store_locations.find('ul')\n",
    "names = store_name.find_all('a')\n",
    "spans = store_name.find_all('span')\n",
    "\n",
    "# print(store_locations)\n",
    "# print(store_name)\n",
    "# print(names)\n",
    "# print(spans)"
   ]
  },
  {
   "cell_type": "markdown",
   "metadata": {},
   "source": [
    "### Get 100 Austin Locations"
   ]
  },
  {
   "cell_type": "code",
   "execution_count": 7,
   "metadata": {},
   "outputs": [],
   "source": [
    "for index,a in enumerate(names):\n",
    "    if index % 2 == 0:\n",
    "        store_name_list.append(a.text)"
   ]
  },
  {
   "cell_type": "code",
   "execution_count": 8,
   "metadata": {},
   "outputs": [],
   "source": [
    "for index,span in enumerate(spans):\n",
    "    if index % 2 == 0:\n",
    "        streets.append(span.text)\n",
    "    else:\n",
    "        cities.append(span.text)\n",
    "\n",
    "# print(locations)"
   ]
  },
  {
   "cell_type": "markdown",
   "metadata": {},
   "source": [
    "### Get 100 Houston Results"
   ]
  },
  {
   "cell_type": "code",
   "execution_count": 9,
   "metadata": {},
   "outputs": [],
   "source": [
    "browser.find_by_id('wpsl-search-input').fill('Houston, TX, USA\\n')\n",
    "\n",
    "time.sleep(1)\n",
    "\n",
    "browser.find_by_id('wpsl-search-btn').click()\n",
    "\n",
    "time.sleep(3)\n",
    "\n",
    "html = browser.html\n",
    "\n",
    "# Create BeautifulSoup object; parse with 'html.parser'\n",
    "soup = bs(html, 'html.parser')"
   ]
  },
  {
   "cell_type": "code",
   "execution_count": 10,
   "metadata": {},
   "outputs": [],
   "source": [
    "store_locations = soup.find('div', {'id':'wpsl-result-list'})\n",
    "store_name = store_locations.find('ul')\n",
    "names = store_name.find_all('a')\n",
    "spans = store_name.find_all('span')\n",
    "\n",
    "# print(store_locations)\n",
    "# print(store_name)\n",
    "# print(names)\n",
    "# print(spans)"
   ]
  },
  {
   "cell_type": "code",
   "execution_count": 11,
   "metadata": {},
   "outputs": [],
   "source": [
    "for index,a in enumerate(names):\n",
    "    if index % 2 == 0:\n",
    "        store_name_list.append(a.text)"
   ]
  },
  {
   "cell_type": "code",
   "execution_count": 12,
   "metadata": {},
   "outputs": [],
   "source": [
    "for index,span in enumerate(spans):\n",
    "    if index % 2 == 0:\n",
    "        streets.append(span.text)\n",
    "    else:\n",
    "        cities.append(span.text)\n",
    "\n",
    "# print(locations)"
   ]
  },
  {
   "cell_type": "markdown",
   "metadata": {},
   "source": [
    "### Get 100 San Antonio Results"
   ]
  },
  {
   "cell_type": "code",
   "execution_count": 13,
   "metadata": {},
   "outputs": [],
   "source": [
    "browser.find_by_id('wpsl-search-input').fill('San Antonio, TX, USA\\n')\n",
    "\n",
    "time.sleep(1)\n",
    "\n",
    "browser.find_by_id('wpsl-search-btn').click()\n",
    "\n",
    "time.sleep(3)\n",
    "\n",
    "html = browser.html\n",
    "\n",
    "# Create BeautifulSoup object; parse with 'html.parser'\n",
    "soup = bs(html, 'html.parser')"
   ]
  },
  {
   "cell_type": "code",
   "execution_count": 14,
   "metadata": {},
   "outputs": [],
   "source": [
    "store_locations = soup.find('div', {'id':'wpsl-result-list'})\n",
    "store_name = store_locations.find('ul')\n",
    "names = store_name.find_all('a')\n",
    "spans = store_name.find_all('span')\n",
    "\n",
    "# print(store_locations)\n",
    "# print(store_name)\n",
    "# print(names)\n",
    "# print(spans)"
   ]
  },
  {
   "cell_type": "code",
   "execution_count": 15,
   "metadata": {},
   "outputs": [],
   "source": [
    "for index,a in enumerate(names):\n",
    "    if index % 2 == 0:\n",
    "        store_name_list.append(a.text)"
   ]
  },
  {
   "cell_type": "code",
   "execution_count": 16,
   "metadata": {},
   "outputs": [],
   "source": [
    "for index,span in enumerate(spans):\n",
    "    if index % 2 == 0:\n",
    "        streets.append(span.text)\n",
    "    else:\n",
    "        cities.append(span.text)\n",
    "\n",
    "# print(locations)"
   ]
  },
  {
   "cell_type": "code",
   "execution_count": 17,
   "metadata": {},
   "outputs": [],
   "source": [
    "locations = [\", \".join([street,city]) for street,city in zip(streets,cities)]"
   ]
  },
  {
   "cell_type": "code",
   "execution_count": 18,
   "metadata": {},
   "outputs": [],
   "source": [
    "combined_address = list(zip(store_name_list, locations))\n",
    "combined_address_df = pd.DataFrame(combined_address)\n",
    "combined_address_df.columns = ['store_name', 'address']\n",
    "\n",
    "combined_address_df.to_csv('heyday_stores_Aus-Hou-SA.csv')\n",
    "# combined_address_df['store_name'] = combined_address_df['store_name'].replace({'7 Eleven': '7-Eleven'})\n",
    "# grouped_df = combined_address_df.groupby(pd.Grouper(key='store_name')).count()\n",
    "# sorted_df = grouped_df.sort_values(\"store_name\", ascending=False)\n",
    "# sorted_df\n"
   ]
  },
  {
   "cell_type": "code",
   "execution_count": null,
   "metadata": {},
   "outputs": [],
   "source": []
  }
 ],
 "metadata": {
  "kernelspec": {
   "display_name": "tuesday_pandas",
   "language": "python",
   "name": "tuesday_pandas"
  },
  "language_info": {
   "codemirror_mode": {
    "name": "ipython",
    "version": 3
   },
   "file_extension": ".py",
   "mimetype": "text/x-python",
   "name": "python",
   "nbconvert_exporter": "python",
   "pygments_lexer": "ipython3",
   "version": "3.6.7"
  }
 },
 "nbformat": 4,
 "nbformat_minor": 2
}
