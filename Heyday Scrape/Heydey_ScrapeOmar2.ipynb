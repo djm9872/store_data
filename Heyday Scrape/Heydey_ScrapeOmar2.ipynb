{
 "cells": [
  {
   "cell_type": "code",
   "execution_count": 1,
   "metadata": {},
   "outputs": [
    {
     "name": "stdout",
     "output_type": "stream",
     "text": [
      "/usr/local/bin/chromedriver\r\n"
     ]
    }
   ],
   "source": [
    "from splinter import Browser\n",
    "from bs4 import BeautifulSoup as bs\n",
    "import requests\n",
    "import pymongo\n",
    "import pandas as pd\n",
    "from pprint import pprint\n",
    "import time\n",
    "import re\n",
    "!which chromedriver"
   ]
  },
  {
   "cell_type": "code",
   "execution_count": 30,
   "metadata": {},
   "outputs": [],
   "source": [
    "executable_path = {'executable_path': '/usr/local/bin/chromedriver'}\n",
    "browser = Browser('chrome', **executable_path, headless=False)"
   ]
  },
  {
   "cell_type": "code",
   "execution_count": 26,
   "metadata": {},
   "outputs": [],
   "source": [
    "scrape_dict = {}"
   ]
  },
  {
   "cell_type": "code",
   "execution_count": 31,
   "metadata": {},
   "outputs": [],
   "source": [
    "# URL of page to be scraped\n",
    "url = 'http://drinkheyday.com/find-us/'\n",
    "browser.visit(url)\n",
    "browser.cookies.delete()\n",
    "time.sleep(2) #to force pop up"
   ]
  },
  {
   "cell_type": "code",
   "execution_count": 32,
   "metadata": {},
   "outputs": [],
   "source": [
    "browser.find_by_id('close-wisepop-125801').first.click() #Close pop up\n",
    "time.sleep(1)\n",
    "#'\\n' in next line to mimic hitting enter key; \n",
    "browser.find_by_id('wpsl-search-input').fill('Austin, TX, USA\\n')\n",
    "time.sleep(1)\n",
    "\n",
    "dropdown = browser.find_by_css('.wpsl-dropdown') #both dropdowns\n",
    "radius_dropdown = dropdown.first  #radius dropdown               \n",
    "results_dropdown = dropdown.last  #results dropdown"
   ]
  },
  {
   "cell_type": "code",
   "execution_count": 19,
   "metadata": {},
   "outputs": [
    {
     "name": "stdout",
     "output_type": "stream",
     "text": [
      "<splinter.driver.webdriver.WebDriverElement object at 0x110415898>\n"
     ]
    }
   ],
   "source": [
    "# SET MAX RESULTS TO 100\n",
    "results_dropdown.click()\n",
    "xpath_results_dropdown = '//*[@id=\"wpsl-results\"]/div/div/ul/li[4]'\n",
    "to_click = browser.find_by_xpath(xpath_results_dropdown)\n",
    "img = to_click[0]\n",
    "print(img)\n",
    "# img.click()"
   ]
  },
  {
   "cell_type": "code",
   "execution_count": 33,
   "metadata": {},
   "outputs": [],
   "source": [
    "radius_dropdown.click()"
   ]
  },
  {
   "cell_type": "code",
   "execution_count": 34,
   "metadata": {},
   "outputs": [],
   "source": [
    "#Click on 50 mile radius; \n",
    "radius_dropdown.click()\n",
    "# xpath10 = '//*[@id=\"wpsl-radius\"]/div/div/ul/li[1]' #10mi\n",
    "# to_click = browser.find_by_xpath(xpath10)\n",
    "# xpath25 = '//*[@id=\"wpsl-radius\"]/div/div/ul/li[2]' #25mi\n",
    "# to_click = browser.find_by_xpath(xpath10)\n",
    "# xpath50 = '//*[@id=\"wpsl-radius\"]/div/div/ul/li[3]' #50mi\n",
    "# to_click = browser.find_by_xpath(xpath50)\n",
    "xpath100 = '//*[@id=\"wpsl-radius\"]/div/div/ul/li[4]' #100mi\n",
    "to_click = browser.find_by_xpath(xpath100)\n",
    "# xpath200 = '//*[@id=\"wpsl-radius\"]/div/div/ul/li[5]' #200mi\n",
    "# to_click = browser.find_by_xpath(xpath10)\n",
    "# xpath500 = '//*[@id=\"wpsl-radius\"]/div/div/ul/li[6]' #500mi\n",
    "# to_click = browser.find_by_xpath(xpath10)\n",
    "\n",
    "to_click.click()\n",
    "\n",
    "# img = to_click[0]\n",
    "# img.click()"
   ]
  },
  {
   "cell_type": "code",
   "execution_count": null,
   "metadata": {},
   "outputs": [],
   "source": [
    "# radius1 = browser.find_by_xpath('/body/div[@class=\"wpsl-dropdown\"]/select[@id=\"wpsl-radius-dropdown\"]/option')\n",
    "# radius1 = browser.find_by_xpath('/body/div[@class=\"wpsl-dropdown\"]/select[@id=\"wpsl-radius-dropdown\"]/option[@value=\"100\"]').first.value\n",
    "# radius1 = browser.find_by_xpath('/body/div[@class=\"wpsl-dropdown\"]/div[@style=\"height: 254px;\"]/ul/li[@data-value=\"100\"]').value\n",
    "# radius1 = browser.find_by_xpath('/body/div[@class=\"wpsl-dropdown\"]/ul/').first.value\n",
    "# radius1 = browser.find_by_css('option')[2].value\n",
    "# radius2 = browser.find_by_css('ul')[2].value\n",
    "# print(radius)\n",
    "# radius.click()\n",
    "\n"
   ]
  },
  {
   "cell_type": "code",
   "execution_count": null,
   "metadata": {},
   "outputs": [],
   "source": [
    "# Parse results\n",
    "html = browser.html\n",
    "soup = bs(html, 'html.parser')\n",
    "print(soup.body.prettify)"
   ]
  },
  {
   "cell_type": "markdown",
   "metadata": {},
   "source": [
    "<div style=\"height: 254px;\"><ul><li data-value=\"10\">10 mi</li><li data-value=\"25\" class=\"\">25 mi</li><li data-value=\"50\" class=\"wpsl-selected-dropdown\">50 mi</li><li data-value=\"100\">100 mi</li><li data-value=\"200\">200 mi</li><li data-value=\"500\">500 mi</li></ul></div>"
   ]
  },
  {
   "cell_type": "markdown",
   "metadata": {},
   "source": [
    "### Notes Below\n"
   ]
  },
  {
   "cell_type": "code",
   "execution_count": null,
   "metadata": {},
   "outputs": [],
   "source": [
    "links_found = browser.find_link_by_text('Link for Example.com')\n",
    "links_found = browser.find_link_by_partial_text('for Example')\n",
    "links_found = browser.find_link_by_href('http://example.com')\n",
    "links_found = browser.find_link_by_partial_href('example')"
   ]
  },
  {
   "cell_type": "code",
   "execution_count": null,
   "metadata": {},
   "outputs": [],
   "source": [
    "//*[@id=\"wpsl-results\"]/div/div/ul/li[4]"
   ]
  },
  {
   "cell_type": "code",
   "execution_count": null,
   "metadata": {},
   "outputs": [],
   "source": [
    "#Grab the Title and teaser paragraph for first article on the website\n",
    "title_to_click = soup.find_all('li', class_='slide')\n",
    "\n",
    "#Create list variables to store\n",
    "titles = []\n",
    "news_p = []\n",
    "\n",
    "#Loop through the title_to_click tags to identify the title and teaser body and append to respective lists above\n",
    "for items in title_to_click:\n",
    "    news_title = items.find('div', class_= 'content_title').a.text\n",
    "    titles.append(news_title)\n",
    "    \n",
    "    news_teaser = items.find('div', class_='article_teaser_body').text\n",
    "    news_p.append(news_teaser)\n",
    "\n",
    "#Print first item in each list to verify\n",
    "# print(titles[0])\n",
    "# print(news_p[0])\n",
    "\n",
    "#Set news_title and news_teaser variables with the first item in each list respectively\n",
    "scrape_dict['news_title'] = titles[0]\n",
    "scrape_dict['news_teaser'] = news_p[0]"
   ]
  }
 ],
 "metadata": {
  "kernelspec": {
   "display_name": "tuesday_pandas",
   "language": "python",
   "name": "tuesday_pandas"
  },
  "language_info": {
   "codemirror_mode": {
    "name": "ipython",
    "version": 3
   },
   "file_extension": ".py",
   "mimetype": "text/x-python",
   "name": "python",
   "nbconvert_exporter": "python",
   "pygments_lexer": "ipython3",
   "version": "3.6.7"
  }
 },
 "nbformat": 4,
 "nbformat_minor": 2
}
