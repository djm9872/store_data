{
 "cells": [
  {
   "cell_type": "code",
   "execution_count": 1,
   "metadata": {},
   "outputs": [],
   "source": [
    "from splinter import Browser\n",
    "from bs4 import BeautifulSoup as bs\n",
    "import requests\n",
    "import pymongo\n",
    "import pandas as pd\n",
    "from pprint import pprint\n",
    "import time\n",
    "import re"
   ]
  },
  {
   "cell_type": "code",
   "execution_count": 2,
   "metadata": {},
   "outputs": [
    {
     "name": "stdout",
     "output_type": "stream",
     "text": [
      "/usr/local/bin/chromedriver\r\n"
     ]
    }
   ],
   "source": [
    "!which chromedriver"
   ]
  },
  {
   "cell_type": "code",
   "execution_count": 64,
   "metadata": {},
   "outputs": [],
   "source": [
    "executable_path = {'executable_path': '/usr/local/bin/chromedriver'}\n",
    "browser = Browser('chrome', **executable_path, headless=False)"
   ]
  },
  {
   "cell_type": "code",
   "execution_count": 65,
   "metadata": {},
   "outputs": [],
   "source": [
    "scrape_dict = {}"
   ]
  },
  {
   "cell_type": "code",
   "execution_count": 66,
   "metadata": {},
   "outputs": [
    {
     "name": "stdout",
     "output_type": "stream",
     "text": [
      "50\n"
     ]
    },
    {
     "ename": "AttributeError",
     "evalue": "'str' object has no attribute 'click'",
     "output_type": "error",
     "traceback": [
      "\u001b[0;31m---------------------------------------------------------------------------\u001b[0m",
      "\u001b[0;31mAttributeError\u001b[0m                            Traceback (most recent call last)",
      "\u001b[0;32m<ipython-input-66-b193d9e8de5a>\u001b[0m in \u001b[0;36m<module>\u001b[0;34m\u001b[0m\n\u001b[1;32m     38\u001b[0m \u001b[0;34m\u001b[0m\u001b[0m\n\u001b[1;32m     39\u001b[0m \u001b[0mprint\u001b[0m\u001b[0;34m(\u001b[0m\u001b[0mradius1\u001b[0m\u001b[0;34m)\u001b[0m\u001b[0;34m\u001b[0m\u001b[0;34m\u001b[0m\u001b[0m\n\u001b[0;32m---> 40\u001b[0;31m \u001b[0mradius1\u001b[0m\u001b[0;34m.\u001b[0m\u001b[0mclick\u001b[0m\u001b[0;34m(\u001b[0m\u001b[0;34m)\u001b[0m\u001b[0;34m\u001b[0m\u001b[0;34m\u001b[0m\u001b[0m\n\u001b[0m\u001b[1;32m     41\u001b[0m \u001b[0;34m\u001b[0m\u001b[0m\n",
      "\u001b[0;31mAttributeError\u001b[0m: 'str' object has no attribute 'click'"
     ]
    }
   ],
   "source": [
    "# URL of page to be scraped\n",
    "url = 'http://drinkheyday.com/find-us/'\n",
    "browser.visit(url)\n",
    "browser.cookies.delete()\n",
    "time.sleep(5)\n",
    "\n",
    "browser.find_by_id('close-wisepop-125801').first.click()\n",
    "\n",
    "# html = browser.html\n",
    "\n",
    "# # Create BeautifulSoup object; parse with 'html.parser'\n",
    "# soup = bs(html, 'html.parser')\n",
    "\n",
    "time.sleep(1)\n",
    "\n",
    "browser.find_by_id('wpsl-search-input').fill('Austin, TX, USA')\n",
    "\n",
    "time.sleep(2)\n",
    "\n",
    "radius = browser.find_by_css('.wpsl-dropdown').first.click()\n",
    "\n",
    "browser.is_element_present_by_css('.wpsl-active')\n",
    "\n",
    "time.sleep(1)\n",
    "\n",
    "# radius1 = browser.find_by_xpath('/body/div[@class=\"wpsl-dropdown\"]/select[@id=\"wpsl-radius-dropdown\"]/option')\n",
    "\n",
    "\n",
    "# radius1 = browser.find_by_xpath('/body/div[@class=\"wpsl-dropdown\"]/select[@id=\"wpsl-radius-dropdown\"]/option[@value=\"100\"]').first.value\n",
    "\n",
    "# radius1 = browser.find_by_xpath('/body/div[@class=\"wpsl-dropdown\"]/div[@style=\"height: 254px;\"]/ul/li[@data-value=\"100\"]').value\n",
    "\n",
    "# radius1 = browser.find_by_xpath('/body/div[@class=\"wpsl-dropdown\"]/ul/').first.value\n",
    "\n",
    "radius1 = browser.find_by_css('option')[2].value\n",
    "\n",
    "# radius2 = browser.find_by_css('ul')[2].value\n",
    "\n",
    "print(radius1)\n",
    "radius1.click()\n",
    "\n"
   ]
  },
  {
   "cell_type": "code",
   "execution_count": null,
   "metadata": {},
   "outputs": [],
   "source": [
    "<div style=\"height: 254px;\"><ul><li data-value=\"10\">10 mi</li><li data-value=\"25\" class=\"\">25 mi</li><li data-value=\"50\" class=\"wpsl-selected-dropdown\">50 mi</li><li data-value=\"100\">100 mi</li><li data-value=\"200\">200 mi</li><li data-value=\"500\">500 mi</li></ul></div>"
   ]
  },
  {
   "cell_type": "markdown",
   "metadata": {},
   "source": [
    "### Notes Below\n"
   ]
  },
  {
   "cell_type": "code",
   "execution_count": null,
   "metadata": {},
   "outputs": [],
   "source": [
    "links_found = browser.find_link_by_text('Link for Example.com')\n",
    "links_found = browser.find_link_by_partial_text('for Example')\n",
    "links_found = browser.find_link_by_href('http://example.com')\n",
    "links_found = browser.find_link_by_partial_href('example')"
   ]
  },
  {
   "cell_type": "code",
   "execution_count": null,
   "metadata": {},
   "outputs": [],
   "source": [
    "# Create BeautifulSoup object; parse with 'html.parser'\n",
    "soup = bs(html, 'html.parser')"
   ]
  },
  {
   "cell_type": "code",
   "execution_count": null,
   "metadata": {},
   "outputs": [],
   "source": [
    "#Grab the Title and teaser paragraph for first article on the website\n",
    "title_results = soup.find_all('li', class_='slide')\n",
    "\n",
    "#Create list variables to store\n",
    "titles = []\n",
    "news_p = []\n",
    "\n",
    "#Loop through the title_results tags to identify the title and teaser body and append to respective lists above\n",
    "for items in title_results:\n",
    "    news_title = items.find('div', class_= 'content_title').a.text\n",
    "    titles.append(news_title)\n",
    "    \n",
    "    news_teaser = items.find('div', class_='article_teaser_body').text\n",
    "    news_p.append(news_teaser)\n",
    "\n",
    "#Print first item in each list to verify\n",
    "# print(titles[0])\n",
    "# print(news_p[0])\n",
    "\n",
    "#Set news_title and news_teaser variables with the first item in each list respectively\n",
    "scrape_dict['news_title'] = titles[0]\n",
    "scrape_dict['news_teaser'] = news_p[0]"
   ]
  }
 ],
 "metadata": {
  "kernelspec": {
   "display_name": "tuesday_pandas",
   "language": "python",
   "name": "tuesday_pandas"
  },
  "language_info": {
   "codemirror_mode": {
    "name": "ipython",
    "version": 3
   },
   "file_extension": ".py",
   "mimetype": "text/x-python",
   "name": "python",
   "nbconvert_exporter": "python",
   "pygments_lexer": "ipython3",
   "version": "3.6.7"
  }
 },
 "nbformat": 4,
 "nbformat_minor": 2
}
